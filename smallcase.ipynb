{
 "cells": [
  {
   "cell_type": "code",
   "execution_count": 1,
   "metadata": {},
   "outputs": [],
   "source": [
    "symbol = 'symbol';\n",
    "lastPrice = 'lastPrice'; "
   ]
  },
  {
   "cell_type": "code",
   "execution_count": 6,
   "metadata": {},
   "outputs": [],
   "source": [
    "# Rules\n",
    "# 1) Not more than 5 primary stocks; Not more than 3 secondary stocks; Not more than 2 tertiary stocks\n",
    "# 2) Primary stocks take 75% of the amount initially. \n",
    "# 3) Secondary stocks take 25% of the amount initially. \n",
    "# 4) Tertiary stocks take the remaining amount after all calculations for primary and secondary are done.\n",
    "primary_stocks = ['asianpaint', 'dabur', 'relaxo', 'pidilitind'];\n",
    "secondary_stocks = ['mothersumi', 'ORIENTELEC']; \n",
    "tertiary_stocks = ['idea','yesbank'];\n",
    "total_amount = 20000;\n",
    "amount_per_primary_stock = (total_amount*0.75)/len(primary_stocks)\n",
    "amount_per_secondary_stock = (total_amount*0.25)/len(secondary_stocks)"
   ]
  },
  {
   "cell_type": "code",
   "execution_count": null,
   "metadata": {},
   "outputs": [],
   "source": []
  },
  {
   "cell_type": "code",
   "execution_count": 7,
   "metadata": {},
   "outputs": [],
   "source": [
    "from nsetools import Nse;\n",
    "import math;\n",
    "nse = Nse();"
   ]
  },
  {
   "cell_type": "code",
   "execution_count": 8,
   "metadata": {},
   "outputs": [],
   "source": [
    "def round2(price, base=0.01):\n",
    "    return round(base*round(price/base),2)\n",
    "def percent(val):\n",
    "    return '{}%'.format(val)"
   ]
  },
  {
   "cell_type": "code",
   "execution_count": null,
   "metadata": {},
   "outputs": [],
   "source": [
    "remaining_amount = total_amount;\n",
    "print('{:25}{:25}{:25}{:25}{:25}'.format('SYMBOL', 'PRICE', 'QUANTITY', 'TOTAL', 'PERCENTAGE'))\n",
    "print('='*125)\n",
    "\n",
    "for stock in primary_stocks:\n",
    "    quote = nse.get_quote(stock);\n",
    "    units = math.floor(amount_per_primary_stock/quote[lastPrice]);\n",
    "    total = round2(units*quote[lastPrice]);\n",
    "    remaining_amount = remaining_amount - total;\n",
    "    percentage = round2(total / total_amount * 100);\n",
    "    print('{:25}{:<25}{:<25}{:<25}{:25}'.format(quote[symbol], quote[lastPrice], units, total, percent(percentage)))\n",
    "\n",
    "for stock in secondary_stocks:\n",
    "    quote = nse.get_quote(stock);\n",
    "    units = math.floor(amount_per_secondary_stock/quote[lastPrice]);\n",
    "    total = round2(units*quote[lastPrice]);\n",
    "    remaining_amount = remaining_amount - total;\n",
    "    percentage = round2(total / total_amount * 100);\n",
    "    print('{:25}{:<25}{:<25}{:<25}{:25}'.format(quote[symbol], quote[lastPrice], units, total, percent(percentage)))\n",
    "\n",
    "amount_per_tertiary_stock = remaining_amount / len(tertiary_stocks)\n",
    "for stock in tertiary_stocks:\n",
    "    quote = nse.get_quote(stock);\n",
    "    units = math.floor(amount_per_tertiary_stock/quote[lastPrice]);\n",
    "    total = round2(units*quote[lastPrice]);\n",
    "    remaining_amount = remaining_amount - total;\n",
    "    percentage = round2(total / total_amount * 100);\n",
    "    print('{:25}{:<25}{:<25}{:<25}{:25}'.format(quote[symbol], quote[lastPrice], units, total, percent(percentage)))"
   ]
  }
 ],
 "metadata": {
  "kernelspec": {
   "display_name": "Python 3",
   "language": "python",
   "name": "python3"
  },
  "language_info": {
   "codemirror_mode": {
    "name": "ipython",
    "version": 3
   },
   "file_extension": ".py",
   "mimetype": "text/x-python",
   "name": "python",
   "nbconvert_exporter": "python",
   "pygments_lexer": "ipython3",
   "version": "3.7.6"
  }
 },
 "nbformat": 4,
 "nbformat_minor": 4
}
